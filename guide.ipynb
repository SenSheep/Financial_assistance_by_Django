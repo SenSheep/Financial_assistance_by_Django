{
 "cells": [
  {
   "cell_type": "markdown",
   "metadata": {},
   "source": [
    "Создание финансового ассистента на основе Django"
   ]
  },
  {
   "cell_type": "markdown",
   "metadata": {},
   "source": [
    "Создаем проект \"mysite\"  "
   ]
  },
  {
   "cell_type": "code",
   "execution_count": null,
   "metadata": {},
   "outputs": [],
   "source": [
    "!django-admin startproject site"
   ]
  },
  {
   "cell_type": "markdown",
   "metadata": {},
   "source": [
    "Создаем приложения домашней страницы\n"
   ]
  },
  {
   "cell_type": "code",
   "execution_count": null,
   "metadata": {},
   "outputs": [],
   "source": [
    "!py manage.py startapp home"
   ]
  },
  {
   "attachments": {
    "image.png": {
     "image/png": "[encoded data removed]"
    }
   },
   "cell_type": "markdown",
   "metadata": {},
   "source": [
    "Начальная структура сайта  \n",
    "![image.png](attachment:image.png)"
   ]
  },
  {
   "cell_type": "markdown",
   "metadata": {},
   "source": [
    "После добавления каждого нового приложения, его необходимо добавить в ```setting.py``` проекта"
   ]
  },
  {
   "cell_type": "code",
   "execution_count": null,
   "metadata": {},
   "outputs": [],
   "source": [
    "INSTALLED_APPS = [\n",
    "    ...\n",
    "    'home',\n",
    "]"
   ]
  },
  {
   "cell_type": "markdown",
   "metadata": {},
   "source": [
    "В ```urls.py``` проекта подключите маршруты приложения:"
   ]
  },
  {
   "cell_type": "code",
   "execution_count": null,
   "metadata": {},
   "outputs": [],
   "source": [
    "from django.contrib import admin\n",
    "from django.urls import path, include\n",
    "\n",
    "urlpatterns = [\n",
    "    path('admin/', admin.site.urls),\n",
    "    path('', include('home.urls')),\n",
    "]"
   ]
  },
  {
   "cell_type": "markdown",
   "metadata": {},
   "source": [
    "Создайте ```urls.py``` в папке приложения ```myapp``` (если его нет):"
   ]
  },
  {
   "cell_type": "code",
   "execution_count": null,
   "metadata": {},
   "outputs": [],
   "source": [
    "from django.urls import path\n",
    "from . import views\n",
    "\n",
    "urlpatterns = [\n",
    "    path('', views.home, name='home'),  # Добавляем маршрут для главной страницы\n",
    "]"
   ]
  },
  {
   "cell_type": "markdown",
   "metadata": {},
   "source": [
    "Откройте ```views.py``` в папке myapp и создайте простое представление:"
   ]
  },
  {
   "cell_type": "code",
   "execution_count": null,
   "metadata": {},
   "outputs": [],
   "source": [
    "from django.http import HttpResponse\n",
    "\n",
    "def home(request):\n",
    "    return HttpResponse(\"Hello, Django!\")"
   ]
  },
  {
   "cell_type": "markdown",
   "metadata": {},
   "source": [
    "Приложения встроено в проект, давайте сделаем веб-страницу  \n",
    "В прилодение создаем папку ```templates``` и в ней файл ```home.html```"
   ]
  },
  {
   "cell_type": "code",
   "execution_count": null,
   "metadata": {
    "vscode": {
     "languageId": "html"
    }
   },
   "outputs": [],
   "source": [
    "<!DOCTYPE html>\n",
    "<html>\n",
    "<head>\n",
    "    <title>Home</title>\n",
    "</head>\n",
    "<body>\n",
    "    <h1>Welcome to Django!</h1>\n",
    "</body>\n",
    "</html>"
   ]
  },
  {
   "cell_type": "markdown",
   "metadata": {},
   "source": [
    "Для корректной работы, изменим представление (view.py)"
   ]
  },
  {
   "cell_type": "code",
   "execution_count": null,
   "metadata": {},
   "outputs": [],
   "source": [
    "from django.shortcuts import render\n",
    "\n",
    "def home(request):\n",
    "    return render(request, 'home.html')"
   ]
  },
  {
   "cell_type": "markdown",
   "metadata": {},
   "source": [
    "Протестируем проект"
   ]
  },
  {
   "cell_type": "code",
   "execution_count": null,
   "metadata": {},
   "outputs": [],
   "source": [
    "!python manage.py runserver"
   ]
  },
  {
   "cell_type": "markdown",
   "metadata": {},
   "source": [
    "Созданим функцию аутентификации пользователя  \n",
    "Создаём файл ```forms.py``` в приложение ```home```:"
   ]
  },
  {
   "cell_type": "code",
   "execution_count": null,
   "metadata": {},
   "outputs": [],
   "source": [
    "from django import forms\n",
    "from django.contrib.auth.models import User\n",
    "from django.contrib.auth.forms import UserCreationForm\n",
    "\n",
    "class RegistrationForm(UserCreationForm):\n",
    "\n",
    "    class Meta:\n",
    "        model = User\n",
    "        fields = ['username', 'password1', 'password2']"
   ]
  },
  {
   "cell_type": "markdown",
   "metadata": {},
   "source": [
    "Добавьте представление для обработки регистрации в views.py:"
   ]
  },
  {
   "cell_type": "code",
   "execution_count": null,
   "metadata": {},
   "outputs": [],
   "source": [
    "from django.shortcuts import render, redirect\n",
    "from .forms import RegistrationForm\n",
    "\n",
    "def register(request):\n",
    "    if request.method == 'POST':\n",
    "        form = RegistrationForm(request.POST)\n",
    "        if form.is_valid():\n",
    "            form.save()\n",
    "            return redirect('login')  # Перенаправляем пользователя на страницу входа\n",
    "    else:\n",
    "        form = RegistrationForm()\n",
    "    return render(request, 'home/register.html', {'form': form})"
   ]
  },
  {
   "cell_type": "markdown",
   "metadata": {},
   "source": [
    "Добавьте маршрут для регистрации в urls.py:"
   ]
  },
  {
   "cell_type": "code",
   "execution_count": null,
   "metadata": {},
   "outputs": [],
   "source": [
    "from django.urls import path\n",
    "from . import views\n",
    "\n",
    "urlpatterns = [\n",
    "    ...\n",
    "    path('register/', views.register, name='register'),\n",
    "]"
   ]
  },
  {
   "cell_type": "markdown",
   "metadata": {},
   "source": [
    "Создайте шаблон register.html:"
   ]
  },
  {
   "cell_type": "code",
   "execution_count": null,
   "metadata": {
    "vscode": {
     "languageId": "html"
    }
   },
   "outputs": [],
   "source": [
    "<!DOCTYPE html>\n",
    "<html lang=\"en\">\n",
    "<head>\n",
    "    <title>Register</title>\n",
    "</head>\n",
    "<body>\n",
    "    <h2>Register</h2>\n",
    "    <form method=\"post\">\n",
    "        {% csrf_token %}\n",
    "        {{ form.as_p }}\n",
    "        <button type=\"submit\">Register</button>\n",
    "    </form>\n",
    "</body>\n",
    "</html>"
   ]
  },
  {
   "cell_type": "markdown",
   "metadata": {},
   "source": [
    "В urls.py добавьте маршруты:"
   ]
  },
  {
   "cell_type": "code",
   "execution_count": null,
   "metadata": {},
   "outputs": [],
   "source": [
    "from django.contrib.auth import views as auth_views\n",
    "\n",
    "urlpatterns = [\n",
    "    path('login/', auth_views.LoginView.as_view(template_name='account/login.html'), name='login'),\n",
    "    path('logout/', auth_views.LogoutView.as_view(next_page='login'), name='logout'),\n",
    "]"
   ]
  },
  {
   "cell_type": "markdown",
   "metadata": {},
   "source": [
    "Создайте шаблон для входа (login.html):"
   ]
  },
  {
   "cell_type": "code",
   "execution_count": null,
   "metadata": {
    "vscode": {
     "languageId": "html"
    }
   },
   "outputs": [],
   "source": [
    "<!DOCTYPE html>\n",
    "<html lang=\"en\">\n",
    "<head>\n",
    "    <title>Login</title>\n",
    "</head>\n",
    "<body>\n",
    "    <h2>Login</h2>\n",
    "    <form method=\"post\">\n",
    "        {% csrf_token %}\n",
    "        {{ form.as_p }}\n",
    "        <button type=\"submit\">Login</button>\n",
    "    </form>\n",
    "    <p>Don't have an account? <a href=\"{% url 'register' %}\">Register here</a></p>\n",
    "</body>\n",
    "</html>"
   ]
  },
  {
   "cell_type": "markdown",
   "metadata": {},
   "source": []
  }
 ],
 "metadata": {
  "kernelspec": {
   "display_name": "Python 3",
   "language": "python",
   "name": "python3"
  },
  "language_info": {
   "codemirror_mode": {
    "name": "ipython",
    "version": 3
   },
   "file_extension": ".py",
   "mimetype": "text/x-python",
   "name": "python",
   "nbconvert_exporter": "python",
   "pygments_lexer": "ipython3",
   "version": "3.13.1"
  }
 },
 "nbformat": 4,
 "nbformat_minor": 2
}
